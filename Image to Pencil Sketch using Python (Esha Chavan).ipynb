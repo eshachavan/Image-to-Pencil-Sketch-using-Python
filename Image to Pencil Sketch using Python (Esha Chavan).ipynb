{
 "cells": [
  {
   "cell_type": "markdown",
   "id": "2ff461b6",
   "metadata": {},
   "source": [
    "# TOPIC: IMAGE TO PENCIL SKETCH WITH PYTHON\n",
    "\n",
    "# AUTHOR: Esha Chavan\n",
    "\n",
    "# LEVEL: BEGINNER"
   ]
  },
  {
   "cell_type": "code",
   "execution_count": 1,
   "id": "f0878052",
   "metadata": {},
   "outputs": [],
   "source": [
    "#provides essential functions such as creating Color Masks of any image/video feed or resizing and rotating it\n",
    "\n",
    "import cv2"
   ]
  },
  {
   "cell_type": "code",
   "execution_count": 2,
   "id": "ccfe8cb9",
   "metadata": {},
   "outputs": [
    {
     "data": {
      "text/plain": [
       "-1"
      ]
     },
     "execution_count": 2,
     "metadata": {},
     "output_type": "execute_result"
    }
   ],
   "source": [
    "#imread is used to load an image in the Python program.\n",
    "#imshow is used to display the image.\n",
    "\n",
    "\n",
    "image = cv2.imread(\"Downloads/demo.jpg\")\n",
    "cv2.imshow(\"Banana Cat\", image)\n",
    "cv2.waitKey(0)"
   ]
  },
  {
   "cell_type": "code",
   "execution_count": 3,
   "id": "4553423a",
   "metadata": {},
   "outputs": [
    {
     "data": {
      "text/plain": [
       "-1"
      ]
     },
     "execution_count": 3,
     "metadata": {},
     "output_type": "execute_result"
    }
   ],
   "source": [
    "#cv2.cvtColor() method is used to convert an image from one color space to another.\n",
    "#Using cv2.COLOR_BGR2GRAY color space to convert our image into Grey Colour.\n",
    "\n",
    "gray_image = cv2.cvtColor(image,cv2.COLOR_BGR2GRAY)\n",
    "cv2.imshow(\"Grey Image\", gray_image)\n",
    "cv2.waitKey(0)"
   ]
  },
  {
   "cell_type": "code",
   "execution_count": 4,
   "id": "62f08124",
   "metadata": {},
   "outputs": [
    {
     "data": {
      "text/plain": [
       "-1"
      ]
     },
     "execution_count": 4,
     "metadata": {},
     "output_type": "execute_result"
    }
   ],
   "source": [
    "inverted_image = 255 - gray_image\n",
    "cv2.imshow(\"Inverted\", inverted_image)\n",
    "cv2.waitKey(0)"
   ]
  },
  {
   "cell_type": "code",
   "execution_count": 5,
   "id": "4c5ecc5b",
   "metadata": {},
   "outputs": [
    {
     "data": {
      "text/plain": [
       "-1"
      ]
     },
     "execution_count": 5,
     "metadata": {},
     "output_type": "execute_result"
    }
   ],
   "source": [
    "#OpenCV provides cv2.gaussianblur() function to apply Gaussian Smoothing on the input source image.\n",
    "#pass the values what to blur and how much to be blurred\n",
    "blurred = cv2.GaussianBlur(inverted_image, (19, 19), 0)\n",
    "cv2.imshow(\"Blurred\", blurred )\n",
    "cv2.waitKey(0)"
   ]
  },
  {
   "cell_type": "code",
   "execution_count": 6,
   "id": "d6e47328",
   "metadata": {},
   "outputs": [
    {
     "data": {
      "text/plain": [
       "-1"
      ]
     },
     "execution_count": 6,
     "metadata": {},
     "output_type": "execute_result"
    }
   ],
   "source": [
    "inverted_blurred = 255 - blurred\n",
    "pencil_sketch = cv2.divide(gray_image, inverted_blurred, scale=256.0)\n",
    "cv2.imshow(\"Sketch\", pencil_sketch)\n",
    "cv2.waitKey(0)"
   ]
  },
  {
   "cell_type": "code",
   "execution_count": 7,
   "id": "dd825cd6",
   "metadata": {},
   "outputs": [
    {
     "data": {
      "text/plain": [
       "-1"
      ]
     },
     "execution_count": 7,
     "metadata": {},
     "output_type": "execute_result"
    }
   ],
   "source": [
    "#To see the difference between original image and new converted one.\n",
    "cv2.imshow(\"original image\", image)\n",
    "cv2.imshow(\"pencil sketch\", pencil_sketch)\n",
    "cv2.waitKey(0)"
   ]
  }
 ],
 "metadata": {
  "kernelspec": {
   "display_name": "Python 3 (ipykernel)",
   "language": "python",
   "name": "python3"
  },
  "language_info": {
   "codemirror_mode": {
    "name": "ipython",
    "version": 3
   },
   "file_extension": ".py",
   "mimetype": "text/x-python",
   "name": "python",
   "nbconvert_exporter": "python",
   "pygments_lexer": "ipython3",
   "version": "3.9.12"
  }
 },
 "nbformat": 4,
 "nbformat_minor": 5
}
